{
 "cells": [
  {
   "cell_type": "code",
   "execution_count": 45,
   "metadata": {},
   "outputs": [],
   "source": [
    "import numpy as np\n",
    "import pandas as pd\n",
    "import matplotlib.pyplot as plt\n",
    "import seaborn as sns\n",
    "from sklearn.model_selection import train_test_split\n",
    "from sklearn.metrics import accuracy_score\n",
    "from sklearn.preprocessing import scale\n",
    "from sklearn.preprocessing import normalize\n",
    "from sklearn.metrics import ConfusionMatrixDisplay\n",
    "\n",
    "# Model libriaries \n",
    "from sklearn.neighbors import KNeighborsClassifier\n",
    "from sklearn import tree\n",
    "from sklearn.neural_network import MLPClassifier\n",
    "from sklearn import svm\n",
    "from sklearn.naive_bayes import CategoricalNB\n",
    "\n"
   ]
  },
  {
   "cell_type": "code",
   "execution_count": 69,
   "metadata": {},
   "outputs": [],
   "source": [
    "# Read the data\n",
    "data = pd.read_csv(\"star_classification.csv\")"
   ]
  },
  {
   "cell_type": "code",
   "execution_count": 70,
   "metadata": {},
   "outputs": [
    {
     "data": {
      "text/plain": [
       "(100000, 18)"
      ]
     },
     "execution_count": 70,
     "metadata": {},
     "output_type": "execute_result"
    }
   ],
   "source": [
    "data.shape"
   ]
  },
  {
   "cell_type": "code",
   "execution_count": 71,
   "metadata": {},
   "outputs": [
    {
     "name": "stdout",
     "output_type": "stream",
     "text": [
      "<class 'pandas.core.frame.DataFrame'>\n",
      "RangeIndex: 100000 entries, 0 to 99999\n",
      "Data columns (total 18 columns):\n",
      " #   Column       Non-Null Count   Dtype  \n",
      "---  ------       --------------   -----  \n",
      " 0   obj_ID       100000 non-null  float64\n",
      " 1   alpha        100000 non-null  float64\n",
      " 2   delta        100000 non-null  float64\n",
      " 3   u            100000 non-null  float64\n",
      " 4   g            100000 non-null  float64\n",
      " 5   r            100000 non-null  float64\n",
      " 6   i            100000 non-null  float64\n",
      " 7   z            100000 non-null  float64\n",
      " 8   run_ID       100000 non-null  int64  \n",
      " 9   rerun_ID     100000 non-null  int64  \n",
      " 10  cam_col      100000 non-null  int64  \n",
      " 11  field_ID     100000 non-null  int64  \n",
      " 12  spec_obj_ID  100000 non-null  float64\n",
      " 13  class        100000 non-null  object \n",
      " 14  redshift     100000 non-null  float64\n",
      " 15  plate        100000 non-null  int64  \n",
      " 16  MJD          100000 non-null  int64  \n",
      " 17  fiber_ID     100000 non-null  int64  \n",
      "dtypes: float64(10), int64(7), object(1)\n",
      "memory usage: 13.7+ MB\n"
     ]
    }
   ],
   "source": [
    "data.info()"
   ]
  },
  {
   "cell_type": "code",
   "execution_count": 72,
   "metadata": {},
   "outputs": [
    {
     "data": {
      "text/plain": [
       "array(['GALAXY', 'QSO', 'STAR'], dtype=object)"
      ]
     },
     "execution_count": 72,
     "metadata": {},
     "output_type": "execute_result"
    }
   ],
   "source": [
    "data[\"class\"].unique()"
   ]
  },
  {
   "cell_type": "code",
   "execution_count": 73,
   "metadata": {},
   "outputs": [
    {
     "name": "stderr",
     "output_type": "stream",
     "text": [
      "C:\\Users\\jenil\\AppData\\Local\\Programs\\Python\\Python38\\lib\\site-packages\\seaborn\\_decorators.py:36: FutureWarning: Pass the following variable as a keyword arg: x. From version 0.12, the only valid positional argument will be `data`, and passing other arguments without an explicit keyword will result in an error or misinterpretation.\n",
      "  warnings.warn(\n"
     ]
    },
    {
     "data": {
      "image/png": "[encoded data removed]",
      "text/plain": [
       "<Figure size 432x288 with 1 Axes>"
      ]
     },
     "metadata": {
      "needs_background": "light"
     },
     "output_type": "display_data"
    }
   ],
   "source": [
    "plot = sns.countplot(data[\"class\"], label=\"Count\")\n",
    "plot.bar_label(plot.containers[0])\n",
    "plt.show()"
   ]
  },
  {
   "cell_type": "markdown",
   "metadata": {},
   "source": [
    "Preprocessing Data"
   ]
  },
  {
   "cell_type": "code",
   "execution_count": 74,
   "metadata": {},
   "outputs": [],
   "source": [
    "# Dropping columns that are IDs or timestamp\n",
    "data = data.drop(['obj_ID','field_ID','run_ID','rerun_ID', 'cam_col', 'field_ID', 'spec_obj_ID', 'MJD', 'fiber_ID', 'alpha', 'delta', 'plate'], axis=1) "
   ]
  },
  {
   "cell_type": "code",
   "execution_count": 75,
   "metadata": {},
   "outputs": [
    {
     "data": {
      "text/html": [
       "<div>\n",
       "<style scoped>\n",
       "    .dataframe tbody tr th:only-of-type {\n",
       "        vertical-align: middle;\n",
       "    }\n",
       "\n",
       "    .dataframe tbody tr th {\n",
       "        vertical-align: top;\n",
       "    }\n",
       "\n",
       "    .dataframe thead th {\n",
       "        text-align: right;\n",
       "    }\n",
       "</style>\n",
       "<table border=\"1\" class=\"dataframe\">\n",
       "  <thead>\n",
       "    <tr style=\"text-align: right;\">\n",
       "      <th></th>\n",
       "      <th>u</th>\n",
       "      <th>g</th>\n",
       "      <th>r</th>\n",
       "      <th>i</th>\n",
       "      <th>z</th>\n",
       "      <th>class</th>\n",
       "      <th>redshift</th>\n",
       "    </tr>\n",
       "  </thead>\n",
       "  <tbody>\n",
       "  </tbody>\n",
       "</table>\n",
       "</div>"
      ],
      "text/plain": [
       "Empty DataFrame\n",
       "Columns: [u, g, r, i, z, class, redshift]\n",
       "Index: []"
      ]
     },
     "execution_count": 75,
     "metadata": {},
     "output_type": "execute_result"
    }
   ],
   "source": [
    "# Finding duplicate\n",
    "duplicate = data[data.duplicated()]\n",
    "duplicate"
   ]
  },
  {
   "cell_type": "code",
   "execution_count": 77,
   "metadata": {},
   "outputs": [],
   "source": [
    "# Replace class label \"QSO\" to \"QUASARS\"\n",
    "data['class'].replace(\"QSO\",\"QUASARS\",inplace=True)"
   ]
  },
  {
   "cell_type": "code",
   "execution_count": 78,
   "metadata": {},
   "outputs": [],
   "source": [
    "# Extract data label\n",
    "classData = data[\"class\"]\n",
    "\n",
    "# Drop the class label\n",
    "data.drop([\"class\"],axis=1, inplace=True)"
   ]
  },
  {
   "cell_type": "code",
   "execution_count": 79,
   "metadata": {},
   "outputs": [],
   "source": [
    "#Scale the data\n",
    "'''\n",
    "NOTE: You can make this optional, scaling helped improve the accuracy. Try with scaling and without it\n",
    "'''\n",
    "data = scale(data)"
   ]
  },
  {
   "cell_type": "markdown",
   "metadata": {},
   "source": [
    "Data Splitting"
   ]
  },
  {
   "cell_type": "code",
   "execution_count": 80,
   "metadata": {},
   "outputs": [],
   "source": [
    "def split_data(train_size, valid_size, data, label):\n",
    "    # Train-Test datasplit\n",
    "    dataTrain, dataTest, classTrain, classTest = train_test_split(data, label, train_size=train_size, random_state=1, stratify=label)\n",
    "\n",
    "    #Train-Validation datasplit\n",
    "    dataTrain, dataValid, classTrain, classValid = train_test_split(dataTrain, classTrain, test_size=valid_size, random_state=1, stratify=classTrain)\n",
    "    \n",
    "    print(\"Train: \", dataTrain.shape[0])  \n",
    "    print(classTrain.value_counts())\n",
    "    print(\"Validation: \", dataValid.shape[0])  \n",
    "    print(classValid.value_counts())\n",
    "    print(\"Test: \", dataTest.shape[0])  \n",
    "    print(classTest.value_counts())\n",
    "    print(\"Dataset Size: \", data.shape[0])  \n",
    "    \n",
    "    return (dataTrain, dataValid, dataTest, classTrain, classValid, classTest)"
   ]
  },
  {
   "cell_type": "code",
   "execution_count": 81,
   "metadata": {},
   "outputs": [
    {
     "name": "stdout",
     "output_type": "stream",
     "text": [
      "Train:  64000\n",
      "GALAXY     38045\n",
      "STAR       13820\n",
      "QUASARS    12135\n",
      "Name: class, dtype: int64\n",
      "Validation:  16000\n",
      "GALAXY     9511\n",
      "STAR       3455\n",
      "QUASARS    3034\n",
      "Name: class, dtype: int64\n",
      "Test:  20000\n",
      "GALAXY     11889\n",
      "STAR        4319\n",
      "QUASARS     3792\n",
      "Name: class, dtype: int64\n",
      "Dataset Size:  100000\n"
     ]
    }
   ],
   "source": [
    "# Split the data\n",
    "dataTrain, dataValid, dataTest, classTrain, classValid, classTest = split_data(train_size=0.8, valid_size=0.2, data=data, label=classData)"
   ]
  },
  {
   "cell_type": "markdown",
   "metadata": {},
   "source": [
    "Helper Methods"
   ]
  },
  {
   "cell_type": "code",
   "execution_count": 82,
   "metadata": {},
   "outputs": [],
   "source": [
    "def predict(model, data, label):\n",
    "    predict = model.predict(data)\n",
    "    accuracy = accuracy_score(label, predict)\n",
    "    \n",
    "    return accuracy"
   ]
  },
  {
   "cell_type": "code",
   "execution_count": 83,
   "metadata": {},
   "outputs": [],
   "source": [
    "def confusion_matrix(model, data, label):\n",
    "    predict = model.predict(data)\n",
    "    return confusion_matrix(label, predict)"
   ]
  },
  {
   "cell_type": "markdown",
   "metadata": {},
   "source": [
    "Neural Network"
   ]
  },
  {
   "cell_type": "code",
   "execution_count": 84,
   "metadata": {},
   "outputs": [],
   "source": [
    "def NeuralNetwork(data, classData, iteration=200, hidden_layers=1, layer_size=100):\n",
    "    clf = MLPClassifier(hidden_layer_sizes=(layer_size,hidden_layers),max_iter=iteration)\n",
    "    clf = clf.fit(data, classData)\n",
    "    \n",
    "    return clf\n"
   ]
  },
  {
   "cell_type": "code",
   "execution_count": 85,
   "metadata": {},
   "outputs": [
    {
     "name": "stdout",
     "output_type": "stream",
     "text": [
      "0.9734\n"
     ]
    }
   ],
   "source": [
    "# Training the model and predicting on test data\n",
    "NNModel = NeuralNetwork(dataTrain, classTrain, iteration=1000, hidden_layers=1, layer_size=50)\n",
    "accuracy = predict(NNModel, dataTest, classTest)\n",
    "\n",
    "print(accuracy)"
   ]
  },
  {
   "cell_type": "code",
   "execution_count": 88,
   "metadata": {},
   "outputs": [
    {
     "name": "stdout",
     "output_type": "stream",
     "text": [
      "0.9726875\n"
     ]
    },
    {
     "data": {
      "image/png": "[encoded data removed]",
      "text/plain": [
       "<Figure size 432x288 with 2 Axes>"
      ]
     },
     "metadata": {
      "needs_background": "light"
     },
     "output_type": "display_data"
    }
   ],
   "source": [
    "# predicting on validation data\n",
    "accuracy = predict(NNModel, dataValid, classValid)\n",
    "print(accuracy)\n",
    "\n",
    "dsp = ConfusionMatrixDisplay.from_estimator(\n",
    "    NNModel,\n",
    "    dataTest,\n",
    "    classTest,\n",
    "    display_labels=['GALAXY', 'QUASARS', 'STAR'],\n",
    "    cmap=plt.cm.Blues\n",
    ")\n",
    "\n",
    "dsp.ax_.set_title(\"Confusion Matrix\")\n",
    "plt.show()"
   ]
  },
  {
   "cell_type": "code",
   "execution_count": 17,
   "metadata": {},
   "outputs": [
    {
     "name": "stderr",
     "output_type": "stream",
     "text": [
      "C:\\Users\\jenil\\AppData\\Local\\Programs\\Python\\Python38\\lib\\site-packages\\sklearn\\neural_network\\_multilayer_perceptron.py:692: ConvergenceWarning: Stochastic Optimizer: Maximum iterations (100) reached and the optimization hasn't converged yet.\n",
      "  warnings.warn(\n",
      "C:\\Users\\jenil\\AppData\\Local\\Programs\\Python\\Python38\\lib\\site-packages\\sklearn\\neural_network\\_multilayer_perceptron.py:692: ConvergenceWarning: Stochastic Optimizer: Maximum iterations (200) reached and the optimization hasn't converged yet.\n",
      "  warnings.warn(\n"
     ]
    }
   ],
   "source": [
    "# Test Accuracy vs Iterations\n",
    "testAcc = []\n",
    "trainAcc = []\n",
    "validAcc = []\n",
    "\n",
    "for iteration in range(100, 1001, 100):\n",
    "    NNModel = NeuralNetwork(dataTrain, classTrain, iteration=iteration, hidden_layers=1, layer_size=32)\n",
    "    \n",
    "    # Training Accuracy\n",
    "    accuracy = predict(NNModel, dataTrain, classTrain)\n",
    "    trainAcc.append(accuracy)\n",
    "    \n",
    "    # Test Accuracy\n",
    "    accuracy = predict(NNModel, dataTest, classTest)\n",
    "    testAcc.append(accuracy)\n",
    "    \n",
    "    # Validation Accuracy\n",
    "    accuracy = predict(NNModel, dataValid, classValid)\n",
    "    validAcc.append(accuracy)\n"
   ]
  },
  {
   "cell_type": "code",
   "execution_count": 19,
   "metadata": {},
   "outputs": [
    {
     "data": {
      "text/plain": [
       "Text(0, 0.5, 'Accuracy')"
      ]
     },
     "execution_count": 19,
     "metadata": {},
     "output_type": "execute_result"
    },
    {
     "data": {
      "image/png": "[encoded data removed]",
      "text/plain": [
       "<Figure size 432x288 with 1 Axes>"
      ]
     },
     "metadata": {
      "needs_background": "light"
     },
     "output_type": "display_data"
    }
   ],
   "source": [
    "iteration = list(range(100,1001,100))\n",
    "\n",
    "plt.plot(iteration,trainAcc,'-',iteration,testAcc,'-')\n",
    "plt.legend(['Training Accuracy','Test Accuracy'])\n",
    "plt.title(\"Iteration vs. Accuracy\")\n",
    "plt.xlabel('Iteration')\n",
    "plt.ylabel('Accuracy')"
   ]
  },
  {
   "cell_type": "code",
   "execution_count": 25,
   "metadata": {},
   "outputs": [
    {
     "data": {
      "text/plain": [
       "Text(0, 0.5, 'Accuracy')"
      ]
     },
     "execution_count": 25,
     "metadata": {},
     "output_type": "execute_result"
    },
    {
     "data": {
      "image/png": "[encoded data removed]",
      "text/plain": [
       "<Figure size 432x288 with 1 Axes>"
      ]
     },
     "metadata": {
      "needs_background": "light"
     },
     "output_type": "display_data"
    }
   ],
   "source": [
    "plt.plot(iteration,trainAcc,'-',iteration,validAcc,'-')\n",
    "plt.legend(['Training Accuracy','Validation Accuracy'])\n",
    "plt.title(\"Iteration vs. Accuracy\")\n",
    "plt.xlabel('Iteration')\n",
    "plt.ylabel('Accuracy')"
   ]
  },
  {
   "cell_type": "code",
   "execution_count": 26,
   "metadata": {},
   "outputs": [
    {
     "data": {
      "text/plain": [
       "[0.96765,\n",
       " 0.9515,\n",
       " 0.9689,\n",
       " 0.94955,\n",
       " 0.9699,\n",
       " 0.59445,\n",
       " 0.9674,\n",
       " 0.97265,\n",
       " 0.97155,\n",
       " 0.9692]"
      ]
     },
     "execution_count": 26,
     "metadata": {},
     "output_type": "execute_result"
    }
   ],
   "source": [
    "testAcc"
   ]
  }
 ],
 "metadata": {
  "interpreter": {
   "hash": "d4872502aa822323719e072cf87bce2c4588fedc22bd990e3a98a7be2805517c"
  },
  "kernelspec": {
   "display_name": "Python 3.8.7 64-bit",
   "language": "python",
   "name": "python3"
  },
  "language_info": {
   "codemirror_mode": {
    "name": "ipython",
    "version": 3
   },
   "file_extension": ".py",
   "mimetype": "text/x-python",
   "name": "python",
   "nbconvert_exporter": "python",
   "pygments_lexer": "ipython3",
   "version": "3.8.7"
  },
  "orig_nbformat": 4
 },
 "nbformat": 4,
 "nbformat_minor": 2
}
